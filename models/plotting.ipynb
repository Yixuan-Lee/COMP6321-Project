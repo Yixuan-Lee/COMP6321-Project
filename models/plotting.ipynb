{
 "cells": [
  {
   "cell_type": "code",
   "execution_count": null,
   "metadata": {},
   "outputs": [],
   "source": []
  },
  {
   "cell_type": "code",
   "execution_count": 4,
   "metadata": {
    "scrolled": false
   },
   "outputs": [
    {
     "data": {
      "image/png": "[encoded data removed]",
      "text/plain": [
       "<Figure size 432x288 with 1 Axes>"
      ]
     },
     "metadata": {
      "needs_background": "light"
     },
     "output_type": "display_data"
    }
   ],
   "source": [
    "import matplotlib.pyplot as plt\n",
    "import numpy as np\n",
    "import pandas as pd\n",
    "\n",
    "def plot_table(df):\n",
    "    print(df.T)\n",
    "\n",
    "def plot_bar(df):\n",
    "    \n",
    "    ax = df.plot.bar(rot=0,colormap=plt.cm.Accent,title=\"GCP-AWS Time Comparasion\")\n",
    "    ax.set_ylabel(\"Time (seconds)\")\n",
    "    ax.set_xlabel(\"Data Size/Platform\")\n",
    "#     ax.set_ylim(0,100)\n",
    "    fig = ax.get_figure()\n",
    "    fig.savefig(\"output_Time.png\")\n",
    "\n",
    "# def plot_lines(df):\n",
    "#     df1 = df\n",
    "#     ax2 = df1.plot(rot=0, colormap=plt.cm.summer, title=\"Lines Plot\")\n",
    "    \n",
    "#     def print_rs(y,y_pred,is_plot = True):\n",
    "#     analys = np.column_stack((np.zeros((4, 1), dtype=np.float) + sklearn.metrics.accuracy_score(y, y_pred),\n",
    "#                                   np.array(sklearn.metrics.f1_score(y, y_pred, average=None)).reshape(-1, 1),\n",
    "#                                   np.array(sklearn.metrics.precision_score(y, y_pred, average=None)).reshape(-1, 1),\n",
    "#                                   np.array(sklearn.metrics.recall_score(y, y_pred, average=None)).reshape(-1, 1)))\n",
    "#     index = [\"Accuracy\", \"F1 Score\", \"Precision Score\", \"Recall Score\"]\n",
    "#     lables = [\"story\", \"ask_hn\", \"show_hn\", \"poll\"]\n",
    "#     if is_plot :\n",
    "#         plot_confusion_matrix(sklearn.metrics.confusion_matrix(y, y_pred))\n",
    "#         df = gen_rs(analys,index,lables).T\n",
    "#         plot_bar(df)\n",
    "#         plot_table(df)\n",
    "#     rs = np.sum(analys, axis=0).reshape(-1, 4)/4\n",
    "#     return rs\n",
    "    \n",
    "def print_rs_list(df):\n",
    "    df = df .T\n",
    "    plot_bar(df)\n",
    "    plot_table(df)\n",
    "    plot_lines(df)\n",
    "    \n",
    "def gen_rs(testing_rs,index,lables):\n",
    "    dic = {}\n",
    "    for i in range(testing_rs.shape[0]):\n",
    "        dic[lables[i]] = testing_rs[i, :]\n",
    "    df = pd.DataFrame(dic, index=index,dtype=np.float)\n",
    "    return df\n",
    "\n",
    "testing_rs = np.array([[120,83,223,120],\n",
    "                     [117,77,199,150],\n",
    "                     [88,74,192,182]])\n",
    "index = [\"100MB/GCP\",\"100MB/AWS\",\"1GB/GCP\",\"1GB/AWS\"]\n",
    "lables = [\"1M2W\",\"1M6W\",\"1M\"]\n",
    "\n",
    "\n",
    "df = gen_rs(testing_rs,index,lables)\n",
    "\n",
    "plot_bar(df)\n",
    "# plot_table(df)\n",
    "# df.plot(rot=0, colormap=plt.cm.summer, title=\"Lines Plot\")\n"
   ]
  }
 ],
 "metadata": {
  "kernelspec": {
   "display_name": "Python 3",
   "language": "python",
   "name": "python3"
  },
  "language_info": {
   "codemirror_mode": {
    "name": "ipython",
    "version": 3
   },
   "file_extension": ".py",
   "mimetype": "text/x-python",
   "name": "python",
   "nbconvert_exporter": "python",
   "pygments_lexer": "ipython3",
   "version": "3.7.3"
  }
 },
 "nbformat": 4,
 "nbformat_minor": 2
}
