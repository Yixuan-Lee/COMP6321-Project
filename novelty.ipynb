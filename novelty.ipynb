{
 "cells": [
  {
   "cell_type": "markdown",
   "metadata": {},
   "source": [
    "# Novety : Data imbalance"
   ]
  },
  {
   "cell_type": "markdown",
   "metadata": {},
   "source": [
    "import necessary library from sklearn,numpy and matplotlib"
   ]
  },
  {
   "cell_type": "code",
   "execution_count": 1,
   "metadata": {},
   "outputs": [],
   "source": [
    "import io, os, sys, types\n",
    "from sklearn.model_selection import train_test_split\n",
    "from sklearn import preprocessing\n",
    "from sklearn.tree import DecisionTreeClassifier\n",
    "from sklearn.metrics import recall_score\n",
    "from sklearn.svm import SVC\n",
    "from sklearn.linear_model import LogisticRegression\n",
    "from sklearn.ensemble import RandomForestClassifier\n",
    "from models.novelty.nove import Imbalanced_data\n",
    "import numpy as np\n",
    "import pandas as pd\n",
    "import matplotlib.pyplot as plt"
   ]
  },
  {
   "cell_type": "markdown",
   "metadata": {},
   "source": [
    "## 1. import data and do normalization"
   ]
  },
  {
   "cell_type": "code",
   "execution_count": 2,
   "metadata": {},
   "outputs": [],
   "source": [
    "obj=Imbalanced_data()"
   ]
  },
  {
   "cell_type": "markdown",
   "metadata": {},
   "source": [
    "## 2.print the number of class 1 and number of class 0"
   ]
  },
  {
   "cell_type": "code",
   "execution_count": 3,
   "metadata": {},
   "outputs": [
    {
     "name": "stdout",
     "output_type": "stream",
     "text": [
      "number of class 0 :23364\n",
      "number of class 1 : 6636\n"
     ]
    }
   ],
   "source": [
    "obj.showImbalance()   "
   ]
  },
  {
   "cell_type": "markdown",
   "metadata": {},
   "source": [
    "## 3.Here,we define 4 classification model to fit imbalance and use a comparation which add class wight as a parameter\n",
    "In this experiment, only use the default parameter without hyperparameter search due to we don't want the model belong to same classifier have different parameter except class_weight.\n"
   ]
  },
  {
   "cell_type": "code",
   "execution_count": 4,
   "metadata": {},
   "outputs": [
    {
     "name": "stdout",
     "output_type": "stream",
     "text": [
      "number of class 0 :23364\n",
      "number of class 1 : 6636\n"
     ]
    }
   ],
   "source": [
    "obj.showImbalance()   "
   ]
  },
  {
   "cell_type": "markdown",
   "metadata": {},
   "source": [
    "call the function above"
   ]
  },
  {
   "cell_type": "code",
   "execution_count": 5,
   "metadata": {},
   "outputs": [
    {
     "name": "stdout",
     "output_type": "stream",
     "text": [
      "dtc balanced accuray: 76.00%  dtc imbalanced accuray: 82.61%\n",
      "dtc balanced precision: 45.79%  dtc imbalanced precision: 68.13%\n",
      "dtc balanced recall: 61.45%  dtc imbalanced recall: 36.35%\n",
      "svc balanced accuray: 76.11%  svc imbalanced accuray: 82.48%\n",
      "svc balanced precision: 45.96%  svc imbalanced precision: 69.19%\n",
      "svc balanced recall: 61.31%  svc imbalanced recall: 33.86%\n"
     ]
    },
    {
     "name": "stderr",
     "output_type": "stream",
     "text": [
      "/home/hao/anaconda3/lib/python3.7/site-packages/sklearn/linear_model/logistic.py:432: FutureWarning: Default solver will be changed to 'lbfgs' in 0.22. Specify a solver to silence this warning.\n",
      "  FutureWarning)\n",
      "/home/hao/anaconda3/lib/python3.7/site-packages/sklearn/linear_model/logistic.py:432: FutureWarning: Default solver will be changed to 'lbfgs' in 0.22. Specify a solver to silence this warning.\n",
      "  FutureWarning)\n"
     ]
    },
    {
     "name": "stdout",
     "output_type": "stream",
     "text": [
      "logistic balanced accuray: 61.19%  logistic imbalanced accuray: 81.65%\n",
      "logistic balanced precision: 31.98%  logistic imbalanced precision: 73.95%\n",
      "logistic balanced recall: 70.96%  logistic imbalanced recall: 23.00%\n"
     ]
    },
    {
     "name": "stderr",
     "output_type": "stream",
     "text": [
      "/home/hao/anaconda3/lib/python3.7/site-packages/sklearn/ensemble/forest.py:245: FutureWarning: The default value of n_estimators will change from 10 in version 0.20 to 100 in 0.22.\n",
      "  \"10 in version 0.20 to 100 in 0.22.\", FutureWarning)\n",
      "/home/hao/anaconda3/lib/python3.7/site-packages/sklearn/ensemble/forest.py:245: FutureWarning: The default value of n_estimators will change from 10 in version 0.20 to 100 in 0.22.\n",
      "  \"10 in version 0.20 to 100 in 0.22.\", FutureWarning)\n"
     ]
    },
    {
     "name": "stdout",
     "output_type": "stream",
     "text": [
      "random forest accuray: 81.06%  random forest imbalanced accuray: 80.90%\n",
      "random forest balanced precision: 63.35%  random forest imbalanced precision: 61.09%\n",
      "random forest balanced recall: 28.90%  random forest imbalanced recall: 31.48%\n"
     ]
    }
   ],
   "source": [
    "obj.testdt()\n",
    "obj.svctest()\n",
    "obj.lgtest()\n",
    "obj.rftest()"
   ]
  },
  {
   "cell_type": "markdown",
   "metadata": {},
   "source": [
    "base on the result we can get the data for plot,just for convient we define collected in the matrix"
   ]
  },
  {
   "cell_type": "code",
   "execution_count": 6,
   "metadata": {},
   "outputs": [],
   "source": [
    "testing_rs = np.array([[76, 45.79, 61.45],\n",
    "                       [82.61, 68.13, 36.35],\n",
    "                       [76.11, 45.96, 61.31],\n",
    "                       [82.48, 69.19, 33.86],\n",
    "                       [61.19, 31.98, 70.96],\n",
    "                       [81.65, 73.95, 23],\n",
    "                       [81.06, 63.35, 28.90],\n",
    "                       [80.9, 61.09, 31.48]\n",
    "                       ]).transpose()"
   ]
  },
  {
   "cell_type": "markdown",
   "metadata": {},
   "source": [
    "# print accuracy,precision,recall with bar chart"
   ]
  },
  {
   "cell_type": "code",
   "execution_count": 7,
   "metadata": {},
   "outputs": [
    {
     "name": "stdout",
     "output_type": "stream",
     "text": [
      "          accuracy  precision  recall\n",
      "DT(bal)      76.00      45.79   61.45\n",
      "DT(im)       82.61      68.13   36.35\n",
      "SVC(bal)     76.11      45.96   61.31\n",
      "SVC(im)      82.48      69.19   33.86\n",
      "lg(bal)      61.19      31.98   70.96\n",
      "lg(im)       81.65      73.95   23.00\n",
      "rf(bal)      81.06      63.35   28.90\n",
      "rf(im)       80.90      61.09   31.48\n"
     ]
    },
    {
     "data": {
      "image/png": "[encoded data removed]",
      "text/plain": [
       "<Figure size 432x288 with 1 Axes>"
      ]
     },
     "metadata": {
      "needs_background": "light"
     },
     "output_type": "display_data"
    }
   ],
   "source": [
    "index = [\"DT(bal)\",\"DT(im)\" ,\"SVC(bal)\",\"SVC(im)\", \"lg(bal)\",  \"lg(im)\",\\\n",
    "         \"rf(bal)\",\"rf(im)\"]\n",
    "lables = [\"accuracy\", \"precision\", \"recall\"]\n",
    "\n",
    "def gen_rs(testing_rs, index, lables):\n",
    "    dic = {}\n",
    "    for i in range(testing_rs.shape[0]):\n",
    "        dic[lables[i]] = testing_rs[i, :]\n",
    "    df = pd.DataFrame(dic, index=index, dtype=np.float)\n",
    "    print(df)\n",
    "    return df\n",
    "\n",
    "def plot_bar(df):\n",
    "    ax = df.plot.bar(rot=0, colormap=plt.cm.Accent, title=\"compare between balanced data&imbalanced data \")\n",
    "    ax.set_ylabel(\"Score\")\n",
    "    ax.set_xlabel(\"classifier\")\n",
    "    fig = ax.get_figure()\n",
    "    fig.savefig(\"bal&im.png\")\n",
    "    \n",
    "\n",
    "df = gen_rs(testing_rs, index, lables)\n",
    "\n",
    "plot_bar(df)"
   ]
  }
 ],
 "metadata": {
  "kernelspec": {
   "display_name": "Python 3",
   "language": "python",
   "name": "python3"
  },
  "language_info": {
   "codemirror_mode": {
    "name": "ipython",
    "version": 3
   },
   "file_extension": ".py",
   "mimetype": "text/x-python",
   "name": "python",
   "nbconvert_exporter": "python",
   "pygments_lexer": "ipython3",
   "version": "3.7.3"
  },
  "pycharm": {
   "stem_cell": {
    "cell_type": "raw",
    "metadata": {
     "collapsed": false
    },
    "source": []
   }
  }
 },
 "nbformat": 4,
 "nbformat_minor": 2
}
